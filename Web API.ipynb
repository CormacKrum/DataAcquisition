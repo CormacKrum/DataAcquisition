{
 "cells": [
  {
   "cell_type": "markdown",
   "metadata": {},
   "source": [
    "# Data Acquistion - Web API's\n",
    "* Application Programming Interface - Set of routines running over web server.\n",
    "* Connects Application & Database\n",
    "* Specify Data with URL\n",
    "* Retrieve Data & Parse It\n",
    "* API may return data in JSON, XML data format's\n",
    "\n",
    "# JSON\n",
    "*JavaScript Object Notation\n",
    "Dictionary Like Data-structure : key value pairs\n",
    "Keys are strings, values can be anything\n",
    "Easy to read and write\n",
    "XML\n",
    "eXtensible Markup Language\n",
    "Structure similar to XML\n",
    "Custom Tags\n",
    "No Style\n",
    "Type of Requests\n",
    "GET\n",
    "POST\n",
    "DELETE\n",
    "PUT\n",
    "PATCH\n",
    "Urllib\n",
    "Requests"
   ]
  }
 ],
 "metadata": {
  "kernelspec": {
   "display_name": "Python 3",
   "language": "python",
   "name": "python3"
  },
  "language_info": {
   "codemirror_mode": {
    "name": "ipython",
    "version": 3
   },
   "file_extension": ".py",
   "mimetype": "text/x-python",
   "name": "python",
   "nbconvert_exporter": "python",
   "pygments_lexer": "ipython3",
   "version": "3.7.7"
  }
 },
 "nbformat": 4,
 "nbformat_minor": 4
}
